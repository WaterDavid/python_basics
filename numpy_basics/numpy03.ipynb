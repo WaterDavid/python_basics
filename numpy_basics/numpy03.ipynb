{
 "cells": [
  {
   "cell_type": "code",
   "execution_count": 2,
   "metadata": {},
   "outputs": [
    {
     "name": "stdout",
     "output_type": "stream",
     "text": [
      "[12 13 14 15 16]\n",
      "[-1  0  1  2  3]\n",
      "[ 4  8 12 16 20]\n",
      "[0.33333333 0.66666667 1.         1.33333333 1.66666667]\n",
      "[0.5 1.  1.5 2.  2.5]\n",
      "[2.         1.         0.66666667 0.5        0.4       ]\n",
      "[ 1  4  9 16 25]\n",
      "[ 2  4  8 16 32]\n"
     ]
    }
   ],
   "source": [
    "#矢量化: 数组不用循环即可对每个元素执行批量的算术运算操作，这个过程叫做矢量化，即用数组表达式代替循环的做法。\n",
    "# 矢量化数组运算性能比纯Python方式快上一两个数据级。\n",
    "import numpy as np\n",
    "\n",
    "#数组与标量做算数运算\n",
    "arr1 = np.array([1,2,3,4,5])\n",
    "print(arr1+11)\n",
    "print(arr1-2)\n",
    "print(arr1*4)\n",
    "print(arr1/3)\n",
    "print(arr1/2.0)\n",
    "print(2.0/arr1)\n",
    "print(arr1**2)\n",
    "print(2**arr1)"
   ]
  },
  {
   "cell_type": "code",
   "execution_count": 7,
   "metadata": {},
   "outputs": [
    {
     "name": "stdout",
     "output_type": "stream",
     "text": [
      "[[1 2 3]\n",
      " [4 5 6]]\n",
      "[[5.3 1.5 6.3]\n",
      " [4.3 2.7 2.3]]\n"
     ]
    }
   ],
   "source": [
    "arr1 = np.array([[1,2,3],[4,5,6]])\n",
    "arr2 = np.array([[5.3,1.5,6.3],[4.3,2.7,2.3]])\n",
    "print(arr1)\n",
    "print(arr2)\n"
   ]
  },
  {
   "cell_type": "code",
   "execution_count": 8,
   "metadata": {},
   "outputs": [
    {
     "name": "stdout",
     "output_type": "stream",
     "text": [
      "arr1 + arr2\n",
      "[[6.3 3.5 9.3]\n",
      " [8.3 7.7 8.3]]\n",
      "arr1 - arr2\n",
      "[[-4.3  0.5 -3.3]\n",
      " [-0.3  2.3  3.7]]\n",
      "arr1 * arr2\n",
      "[[ 5.3  3.  18.9]\n",
      " [17.2 13.5 13.8]]\n",
      "arr1 / arr2\n",
      "[[0.18867925 1.33333333 0.47619048]\n",
      " [0.93023256 1.85185185 2.60869565]]\n",
      "arr1 ** arr2\n",
      "[[1.00000000e+00 2.82842712e+00 1.01359371e+03]\n",
      " [3.88023441e+02 7.71292328e+01 6.16237149e+01]]\n"
     ]
    }
   ],
   "source": [
    "print('arr1 + arr2')\n",
    "print(arr1+arr2)\n",
    "print('arr1 - arr2')\n",
    "print(arr1 - arr2)\n",
    "print('arr1 * arr2')\n",
    "print(arr1*arr2)\n",
    "print('arr1 / arr2')\n",
    "print(arr1/arr2)\n",
    "print('arr1 ** arr2')\n",
    "print(arr1**arr2)"
   ]
  },
  {
   "cell_type": "code",
   "execution_count": null,
   "metadata": {},
   "outputs": [],
   "source": []
  }
 ],
 "metadata": {
  "kernelspec": {
   "display_name": "Python 3",
   "language": "python",
   "name": "python3"
  },
  "language_info": {
   "codemirror_mode": {
    "name": "ipython",
    "version": 3
   },
   "file_extension": ".py",
   "mimetype": "text/x-python",
   "name": "python",
   "nbconvert_exporter": "python",
   "pygments_lexer": "ipython3",
   "version": "3.7.5"
  }
 },
 "nbformat": 4,
 "nbformat_minor": 2
}
