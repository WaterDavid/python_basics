{
 "cells": [
  {
   "cell_type": "code",
   "execution_count": 2,
   "metadata": {},
   "outputs": [
    {
     "name": "stdout",
     "output_type": "stream",
     "text": [
      "[12 13 14 15 16]\n",
      "[-1  0  1  2  3]\n",
      "[ 4  8 12 16 20]\n",
      "[0.33333333 0.66666667 1.         1.33333333 1.66666667]\n",
      "[0.5 1.  1.5 2.  2.5]\n",
      "[2.         1.         0.66666667 0.5        0.4       ]\n",
      "[ 1  4  9 16 25]\n",
      "[ 2  4  8 16 32]\n"
     ]
    }
   ],
   "source": [
    "#矢量化: 数组不用循环即可对每个元素执行批量的算术运算操作，这个过程叫做矢量化，即用数组表达式代替循环的做法。\n",
    "# 矢量化数组运算性能比纯Python方式快上一两个数据级。\n",
    "import numpy as np\n",
    "\n",
    "#数组与标量做算数运算\n",
    "arr1 = np.array([1,2,3,4,5])\n",
    "print(arr1+11)\n",
    "print(arr1-2)\n",
    "print(arr1*4)\n",
    "print(arr1/3)\n",
    "print(arr1/2.0)\n",
    "print(2.0/arr1)\n",
    "print(arr1**2)\n",
    "print(2**arr1)"
   ]
  },
  {
   "cell_type": "code",
   "execution_count": 3,
   "metadata": {},
   "outputs": [
    {
     "name": "stdout",
     "output_type": "stream",
     "text": [
      "[[1 2 3]\n",
      " [4 5 6]]\n",
      "[[5.3 1.5 6.3]\n",
      " [4.3 2.7 2.3]]\n"
     ]
    }
   ],
   "source": [
    "arr1 = np.array([[1,2,3],[4,5,6]])\n",
    "arr2 = np.array([[5.3,1.5,6.3],[4.3,2.7,2.3]])\n",
    "print(arr1)\n",
    "print(arr2)\n"
   ]
  },
  {
   "cell_type": "code",
   "execution_count": 4,
   "metadata": {},
   "outputs": [
    {
     "name": "stdout",
     "output_type": "stream",
     "text": [
      "arr1 + arr2\n",
      "[[6.3 3.5 9.3]\n",
      " [8.3 7.7 8.3]]\n",
      "arr1 - arr2\n",
      "[[-4.3  0.5 -3.3]\n",
      " [-0.3  2.3  3.7]]\n",
      "arr1 * arr2\n",
      "[[ 5.3  3.  18.9]\n",
      " [17.2 13.5 13.8]]\n",
      "arr1 / arr2\n",
      "[[0.18867925 1.33333333 0.47619048]\n",
      " [0.93023256 1.85185185 2.60869565]]\n",
      "arr1 ** arr2\n",
      "[[1.00000000e+00 2.82842712e+00 1.01359371e+03]\n",
      " [3.88023441e+02 7.71292328e+01 6.16237149e+01]]\n"
     ]
    }
   ],
   "source": [
    "print('arr1 + arr2')\n",
    "print(arr1+arr2)\n",
    "print('arr1 - arr2')\n",
    "print(arr1 - arr2)\n",
    "print('arr1 * arr2')\n",
    "print(arr1*arr2)\n",
    "print('arr1 / arr2')\n",
    "print(arr1/arr2)\n",
    "print('arr1 ** arr2')\n",
    "print(arr1**arr2)"
   ]
  },
  {
   "cell_type": "code",
   "execution_count": 6,
   "metadata": {},
   "outputs": [
    {
     "data": {
      "text/plain": [
       "array([[120,  60, 220],\n",
       "       [115,  23, 201],\n",
       "       [132,  48, 230]])"
      ]
     },
     "execution_count": 6,
     "metadata": {},
     "output_type": "execute_result"
    }
   ],
   "source": [
    "#ndarray-数据的矩阵积\n",
    "arr = np.array([\n",
    "    [120, 60, 220],\n",
    "    [115, 23, 201],\n",
    "    [132, 48, 230]\n",
    "])\n",
    "arr"
   ]
  },
  {
   "cell_type": "code",
   "execution_count": 9,
   "metadata": {},
   "outputs": [
    {
     "data": {
      "text/plain": [
       "array([[1.2340e+01, 4.0000e-02],\n",
       "       [2.0456e+02, 2.3400e+00],\n",
       "       [9.8900e+00, 4.5000e-01]])"
      ]
     },
     "execution_count": 9,
     "metadata": {},
     "output_type": "execute_result"
    }
   ],
   "source": [
    "arr2 = np.array([\n",
    "    [12.34, 0.04],\n",
    "    [204.56, 2.34],\n",
    "    [9.89, 0.45]\n",
    "])\n",
    "arr2"
   ]
  },
  {
   "cell_type": "code",
   "execution_count": 10,
   "metadata": {},
   "outputs": [
    {
     "data": {
      "text/plain": [
       "array([[15930.2 ,   244.2 ],\n",
       "       [ 8111.87,   148.87],\n",
       "       [13722.46,   221.1 ]])"
      ]
     },
     "execution_count": 10,
     "metadata": {},
     "output_type": "execute_result"
    }
   ],
   "source": [
    "arr.dot(arr2)"
   ]
  },
  {
   "cell_type": "code",
   "execution_count": 11,
   "metadata": {},
   "outputs": [
    {
     "data": {
      "text/plain": [
       "array([[15930.2 ,   244.2 ],\n",
       "       [ 8111.87,   148.87],\n",
       "       [13722.46,   221.1 ]])"
      ]
     },
     "execution_count": 11,
     "metadata": {},
     "output_type": "execute_result"
    }
   ],
   "source": [
    "np.dot(arr, arr2)"
   ]
  },
  {
   "cell_type": "code",
   "execution_count": 14,
   "metadata": {},
   "outputs": [
    {
     "data": {
      "text/plain": [
       "array([120,  60, 220])"
      ]
     },
     "execution_count": 14,
     "metadata": {},
     "output_type": "execute_result"
    }
   ],
   "source": [
    "arr[0,:]"
   ]
  },
  {
   "cell_type": "code",
   "execution_count": 15,
   "metadata": {},
   "outputs": [
    {
     "data": {
      "text/plain": [
       "array([1480.8,  740.4, 2714.8])"
      ]
     },
     "execution_count": 15,
     "metadata": {},
     "output_type": "execute_result"
    }
   ],
   "source": [
    "arr[0,:]*arr2[0,0]"
   ]
  },
  {
   "cell_type": "code",
   "execution_count": 18,
   "metadata": {},
   "outputs": [
    {
     "data": {
      "text/plain": [
       "15930.2"
      ]
     },
     "execution_count": 18,
     "metadata": {},
     "output_type": "execute_result"
    }
   ],
   "source": [
    "sum(arr[0,:]*arr2[:,0])"
   ]
  },
  {
   "cell_type": "code",
   "execution_count": null,
   "metadata": {},
   "outputs": [],
   "source": []
  }
 ],
 "metadata": {
  "kernelspec": {
   "display_name": "Python 3",
   "language": "python",
   "name": "python3"
  },
  "language_info": {
   "codemirror_mode": {
    "name": "ipython",
    "version": 3
   },
   "file_extension": ".py",
   "mimetype": "text/x-python",
   "name": "python",
   "nbconvert_exporter": "python",
   "pygments_lexer": "ipython3",
   "version": "3.7.5"
  }
 },
 "nbformat": 4,
 "nbformat_minor": 2
}
