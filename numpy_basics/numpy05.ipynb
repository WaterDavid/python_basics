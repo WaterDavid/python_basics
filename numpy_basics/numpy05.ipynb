{
 "cells": [
  {
   "cell_type": "code",
   "execution_count": 2,
   "metadata": {},
   "outputs": [],
   "source": [
    "import numpy as np"
   ]
  },
  {
   "cell_type": "code",
   "execution_count": 3,
   "metadata": {},
   "outputs": [
    {
     "name": "stdout",
     "output_type": "stream",
     "text": [
      "(5, 8)\n"
     ]
    },
    {
     "data": {
      "text/plain": [
       "array([[ 0,  1,  2,  3,  4,  5,  6,  7],\n",
       "       [ 8,  9, 10, 11, 12, 13, 14, 15],\n",
       "       [16, 17, 18, 19, 20, 21, 22, 23],\n",
       "       [24, 25, 26, 27, 28, 29, 30, 31],\n",
       "       [32, 33, 34, 35, 36, 37, 38, 39]])"
      ]
     },
     "execution_count": 3,
     "metadata": {},
     "output_type": "execute_result"
    }
   ],
   "source": [
    "#ndarray 数组置换与轴对换 T transpose\n",
    "arr = np.arange(40).reshape(5,-1)\n",
    "print(arr.shape)\n",
    "arr"
   ]
  },
  {
   "cell_type": "code",
   "execution_count": 4,
   "metadata": {},
   "outputs": [
    {
     "name": "stdout",
     "output_type": "stream",
     "text": [
      "(8, 5)\n"
     ]
    },
    {
     "data": {
      "text/plain": [
       "array([[ 0,  8, 16, 24, 32],\n",
       "       [ 1,  9, 17, 25, 33],\n",
       "       [ 2, 10, 18, 26, 34],\n",
       "       [ 3, 11, 19, 27, 35],\n",
       "       [ 4, 12, 20, 28, 36],\n",
       "       [ 5, 13, 21, 29, 37],\n",
       "       [ 6, 14, 22, 30, 38],\n",
       "       [ 7, 15, 23, 31, 39]])"
      ]
     },
     "execution_count": 4,
     "metadata": {},
     "output_type": "execute_result"
    }
   ],
   "source": [
    "arr1 = arr.transpose()\n",
    "print(arr1.shape)\n",
    "arr1"
   ]
  },
  {
   "cell_type": "code",
   "execution_count": 5,
   "metadata": {},
   "outputs": [
    {
     "name": "stdout",
     "output_type": "stream",
     "text": [
      "(8, 5)\n"
     ]
    },
    {
     "data": {
      "text/plain": [
       "array([[ 0,  8, 16, 24, 32],\n",
       "       [ 1,  9, 17, 25, 33],\n",
       "       [ 2, 10, 18, 26, 34],\n",
       "       [ 3, 11, 19, 27, 35],\n",
       "       [ 4, 12, 20, 28, 36],\n",
       "       [ 5, 13, 21, 29, 37],\n",
       "       [ 6, 14, 22, 30, 38],\n",
       "       [ 7, 15, 23, 31, 39]])"
      ]
     },
     "execution_count": 5,
     "metadata": {},
     "output_type": "execute_result"
    }
   ],
   "source": [
    "arr2 = arr.T\n",
    "print(arr2.shape)\n",
    "arr2"
   ]
  },
  {
   "cell_type": "code",
   "execution_count": null,
   "metadata": {},
   "outputs": [],
   "source": []
  }
 ],
 "metadata": {
  "kernelspec": {
   "display_name": "Python 3",
   "language": "python",
   "name": "python3"
  },
  "language_info": {
   "codemirror_mode": {
    "name": "ipython",
    "version": 3
   },
   "file_extension": ".py",
   "mimetype": "text/x-python",
   "name": "python",
   "nbconvert_exporter": "python",
   "pygments_lexer": "ipython3",
   "version": "3.7.5"
  }
 },
 "nbformat": 4,
 "nbformat_minor": 2
}
