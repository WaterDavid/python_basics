{
 "cells": [
  {
   "cell_type": "code",
   "execution_count": 8,
   "metadata": {},
   "outputs": [],
   "source": [
    "import pandas as pd\n",
    "import numpy as np"
   ]
  },
  {
   "cell_type": "code",
   "execution_count": 4,
   "metadata": {},
   "outputs": [
    {
     "data": {
      "text/plain": [
       "0    87\n",
       "1    90\n",
       "2    89\n",
       "dtype: int64"
      ]
     },
     "execution_count": 4,
     "metadata": {},
     "output_type": "execute_result"
    }
   ],
   "source": [
    "series02 = pd.Series([87,90,89])\n",
    "series02"
   ]
  },
  {
   "cell_type": "code",
   "execution_count": 6,
   "metadata": {},
   "outputs": [
    {
     "data": {
      "text/plain": [
       "语文    87\n",
       "数学    90\n",
       "英语    89\n",
       "dtype: int64"
      ]
     },
     "execution_count": 6,
     "metadata": {},
     "output_type": "execute_result"
    }
   ],
   "source": [
    "series02.index = ['语文','数学','英语']\n",
    "series02"
   ]
  },
  {
   "cell_type": "code",
   "execution_count": 10,
   "metadata": {},
   "outputs": [
    {
     "data": {
      "text/plain": [
       "语文    89.0\n",
       "数学    87.0\n",
       "英语    85.0\n",
       "dtype: float64"
      ]
     },
     "execution_count": 10,
     "metadata": {},
     "output_type": "execute_result"
    }
   ],
   "source": [
    "series03 = pd.Series(data=[89,87,85],dtype=np.float64,index=['语文','数学','英语'])\n",
    "series03"
   ]
  },
  {
   "cell_type": "code",
   "execution_count": 12,
   "metadata": {},
   "outputs": [
    {
     "name": "stdout",
     "output_type": "stream",
     "text": [
      "20190101    1234.1\n",
      "20190201    4124.4\n",
      "20190301    6123.2\n",
      "dtype: float64\n",
      "index: Index(['20190101', '20190201', '20190301'], dtype='object')\n",
      "values [1234.1 4124.4 6123.2]\n",
      "dtype: float64\n"
     ]
    }
   ],
   "source": [
    "dict1 = {'20190101':1234.1,'20190201':4124.4,'20190301':6123.2}\n",
    "series04 = pd.Series(dict1)\n",
    "print(series04)\n",
    "print('index:',series04.index)\n",
    "print('values',series04.values)\n",
    "print('dtype:',series04.dtype)"
   ]
  },
  {
   "cell_type": "code",
   "execution_count": 13,
   "metadata": {},
   "outputs": [
    {
     "data": {
      "text/plain": [
       "1234.1"
      ]
     },
     "execution_count": 13,
     "metadata": {},
     "output_type": "execute_result"
    }
   ],
   "source": [
    "series04['20190101']"
   ]
  },
  {
   "cell_type": "code",
   "execution_count": 14,
   "metadata": {},
   "outputs": [
    {
     "data": {
      "text/plain": [
       "1234.1"
      ]
     },
     "execution_count": 14,
     "metadata": {},
     "output_type": "execute_result"
    }
   ],
   "source": [
    "series04[0]"
   ]
  },
  {
   "cell_type": "code",
   "execution_count": 15,
   "metadata": {},
   "outputs": [
    {
     "data": {
      "text/plain": [
       "6123.2"
      ]
     },
     "execution_count": 15,
     "metadata": {},
     "output_type": "execute_result"
    }
   ],
   "source": [
    "series04[-1]"
   ]
  },
  {
   "cell_type": "code",
   "execution_count": 16,
   "metadata": {},
   "outputs": [
    {
     "data": {
      "text/plain": [
       "20190201    4124.4\n",
       "20190301    6123.2\n",
       "dtype: float64"
      ]
     },
     "execution_count": 16,
     "metadata": {},
     "output_type": "execute_result"
    }
   ],
   "source": [
    "series04[1:]"
   ]
  },
  {
   "cell_type": "code",
   "execution_count": 17,
   "metadata": {},
   "outputs": [
    {
     "data": {
      "text/plain": [
       "20190101    True\n",
       "20190201    True\n",
       "20190301    True\n",
       "dtype: bool"
      ]
     },
     "execution_count": 17,
     "metadata": {},
     "output_type": "execute_result"
    }
   ],
   "source": [
    "series04>1000"
   ]
  },
  {
   "cell_type": "code",
   "execution_count": 18,
   "metadata": {},
   "outputs": [
    {
     "data": {
      "text/plain": [
       "20190201    4124.4\n",
       "20190301    6123.2\n",
       "dtype: float64"
      ]
     },
     "execution_count": 18,
     "metadata": {},
     "output_type": "execute_result"
    }
   ],
   "source": [
    "series04[series04>4000]"
   ]
  },
  {
   "cell_type": "code",
   "execution_count": 19,
   "metadata": {},
   "outputs": [
    {
     "data": {
      "text/plain": [
       "20190101    12.341\n",
       "20190201    41.244\n",
       "20190301    61.232\n",
       "dtype: float64"
      ]
     },
     "execution_count": 19,
     "metadata": {},
     "output_type": "execute_result"
    }
   ],
   "source": [
    "series04/100"
   ]
  },
  {
   "cell_type": "code",
   "execution_count": 24,
   "metadata": {},
   "outputs": [
    {
     "name": "stdout",
     "output_type": "stream",
     "text": [
      "0     0.367879\n",
      "1     0.135335\n",
      "2    20.085537\n",
      "3    54.598150\n",
      "dtype: float64\n",
      "\n",
      "0    1.0\n",
      "1    2.0\n",
      "2    3.0\n",
      "3    4.0\n",
      "dtype: float64\n"
     ]
    }
   ],
   "source": [
    "series = pd.Series([-1,-2,3,4])\n",
    "print(np.exp(series))\n",
    "print()\n",
    "print(np.fabs(series))\n"
   ]
  },
  {
   "cell_type": "code",
   "execution_count": 35,
   "metadata": {},
   "outputs": [
    {
     "name": "stdout",
     "output_type": "stream",
     "text": [
      "Tom      89\n",
      "John     88\n",
      "Merry    96\n",
      "Max      65\n",
      "dtype: int64\n",
      "Tom      89.0\n",
      "Max      65.0\n",
      "Joe       NaN\n",
      "John     88.0\n",
      "Merry    96.0\n",
      "dtype: float64\n"
     ]
    }
   ],
   "source": [
    "scores = pd.Series({'Tom':89,'John':88,'Merry':96,'Max':65})\n",
    "print(scores)\n",
    "new_index = ['Tom','Max','Joe','John','Merry']\n",
    "scores = pd.Series(scores,index=new_index)\n",
    "print(scores)"
   ]
  },
  {
   "cell_type": "code",
   "execution_count": 36,
   "metadata": {},
   "outputs": [
    {
     "data": {
      "text/plain": [
       "Tom      False\n",
       "Max      False\n",
       "Joe       True\n",
       "John     False\n",
       "Merry    False\n",
       "dtype: bool"
      ]
     },
     "execution_count": 36,
     "metadata": {},
     "output_type": "execute_result"
    }
   ],
   "source": [
    "pd.isnull(scores)"
   ]
  },
  {
   "cell_type": "code",
   "execution_count": 37,
   "metadata": {},
   "outputs": [
    {
     "data": {
      "text/plain": [
       "Tom       True\n",
       "Max       True\n",
       "Joe      False\n",
       "John      True\n",
       "Merry     True\n",
       "dtype: bool"
      ]
     },
     "execution_count": 37,
     "metadata": {},
     "output_type": "execute_result"
    }
   ],
   "source": [
    "pd.notnull(scores)"
   ]
  },
  {
   "cell_type": "code",
   "execution_count": 38,
   "metadata": {},
   "outputs": [
    {
     "data": {
      "text/plain": [
       "Joe   NaN\n",
       "dtype: float64"
      ]
     },
     "execution_count": 38,
     "metadata": {},
     "output_type": "execute_result"
    }
   ],
   "source": [
    "scores[pd.isnull(scores)]"
   ]
  },
  {
   "cell_type": "code",
   "execution_count": 39,
   "metadata": {},
   "outputs": [
    {
     "data": {
      "text/plain": [
       "Tom      89.0\n",
       "Max      65.0\n",
       "John     88.0\n",
       "Merry    96.0\n",
       "dtype: float64"
      ]
     },
     "execution_count": 39,
     "metadata": {},
     "output_type": "execute_result"
    }
   ],
   "source": [
    "scores[pd.notnull(scores)]"
   ]
  },
  {
   "cell_type": "code",
   "execution_count": 41,
   "metadata": {},
   "outputs": [
    {
     "name": "stdout",
     "output_type": "stream",
     "text": [
      "Tom      89.0\n",
      "Max      65.0\n",
      "Joe      -1.0\n",
      "John     88.0\n",
      "Merry    96.0\n",
      "dtype: float64\n"
     ]
    }
   ],
   "source": [
    "scores['Joe']=-1\n",
    "print(scores)"
   ]
  },
  {
   "cell_type": "code",
   "execution_count": 43,
   "metadata": {},
   "outputs": [
    {
     "name": "stdout",
     "output_type": "stream",
     "text": [
      "     0      1     2\n",
      "0  Tom  Gerry  John\n",
      "1   76     98    85\n"
     ]
    }
   ],
   "source": [
    "#DataFrame\n",
    "df01 = pd.DataFrame([['Tom','Gerry','John'],[76,98,85]])\n",
    "print(df01)"
   ]
  },
  {
   "cell_type": "code",
   "execution_count": 45,
   "metadata": {},
   "outputs": [
    {
     "name": "stdout",
     "output_type": "stream",
     "text": [
      "        name score\n",
      "one      Tom    76\n",
      "two    Gerry    98\n",
      "three   John    85\n"
     ]
    }
   ],
   "source": [
    "arr = np.array([\n",
    "    ['Tom',76],\n",
    "    ['Gerry',98],\n",
    "    ['John',85]\n",
    "])\n",
    "df03 = pd.DataFrame(arr,index=['one','two','three'],columns=['name','score'])\n",
    "print(df03)"
   ]
  },
  {
   "cell_type": "code",
   "execution_count": null,
   "metadata": {},
   "outputs": [],
   "source": []
  }
 ],
 "metadata": {
  "kernelspec": {
   "display_name": "Python 3",
   "language": "python",
   "name": "python3"
  },
  "language_info": {
   "codemirror_mode": {
    "name": "ipython",
    "version": 3
   },
   "file_extension": ".py",
   "mimetype": "text/x-python",
   "name": "python",
   "nbconvert_exporter": "python",
   "pygments_lexer": "ipython3",
   "version": "3.7.5"
  }
 },
 "nbformat": 4,
 "nbformat_minor": 2
}
